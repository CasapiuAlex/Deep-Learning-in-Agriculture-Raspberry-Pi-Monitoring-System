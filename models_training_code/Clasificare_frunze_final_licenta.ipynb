{
  "nbformat": 4,
  "nbformat_minor": 0,
  "metadata": {
    "colab": {
      "provenance": [],
      "gpuType": "T4"
    },
    "kernelspec": {
      "name": "python3",
      "display_name": "Python 3"
    },
    "language_info": {
      "name": "python"
    },
    "accelerator": "GPU"
  },
  "cells": [
    {
      "cell_type": "code",
      "execution_count": null,
      "metadata": {
        "colab": {
          "base_uri": "https://localhost:8080/"
        },
        "id": "H8FhUz-T_Ge2",
        "outputId": "bd3c8b4b-5594-4541-a09e-26e304332d70"
      },
      "outputs": [
        {
          "output_type": "stream",
          "name": "stdout",
          "text": [
            "TensorFlow Version: 2.18.0\n"
          ]
        }
      ],
      "source": [
        "import tensorflow as tf\n",
        "import os\n",
        "import cv2\n",
        "import shutil\n",
        "import numpy as np\n",
        "import matplotlib.pyplot as plt\n",
        "import seaborn as sns\n",
        "from sklearn.metrics import confusion_matrix, classification_report\n",
        "from tensorflow.keras.preprocessing.image import ImageDataGenerator\n",
        "from tensorflow.keras.models import Sequential, load_model\n",
        "from tensorflow.keras import layers\n",
        "from tensorflow.keras.optimizers import Adam\n",
        "from tensorflow.keras.metrics import Recall, Precision, CategoricalAccuracy\n",
        "from tensorflow.keras.callbacks import ModelCheckpoint, EarlyStopping, ReduceLROnPlateau, TensorBoard\n",
        "\n",
        "print(\"TensorFlow Version:\", tf.__version__)"
      ]
    },
    {
      "cell_type": "markdown",
      "source": [
        "# Descarcare DATASET"
      ],
      "metadata": {
        "id": "x5FJM4Jprcms"
      }
    },
    {
      "cell_type": "code",
      "source": [
        "import os\n",
        "import kagglehub\n",
        "import shutil\n",
        "\n",
        "os.environ['KAGGLE_USERNAME'] = \"ionutcasapiu\"\n",
        "os.environ['KAGGLE_KEY'] = \"25423583930c0ceabe64e4c7a02f6eda\"\n",
        "print(\"Variabilele de mediu Kaggle setate.\")\n",
        "\n",
        "original_dataset_path = None\n",
        "dataset_name_to_download = \"ionutcasapiu/crop-leaf-disease-general\"\n",
        "fallback_dataset_path = \"/kaggle/input/plant-disease-recognition-dataset\"\n",
        "\n",
        "try:\n",
        "    path_object = kagglehub.dataset_download(dataset_name_to_download)\n",
        "    original_dataset_path = str(path_object)\n",
        "    print(f\"Dataset '{dataset_name_to_download}' descărcat în: {original_dataset_path}\")\n",
        "except Exception as e:\n",
        "    print(f\"Eroare la descărcarea '{dataset_name_to_download}': {e}\")\n",
        "    if os.path.exists(fallback_dataset_path):\n",
        "        original_dataset_path = fallback_dataset_path\n",
        "        print(f\"Se folosește fallback: {original_dataset_path}\")\n",
        "    else:\n",
        "        print(f\"Descărcarea și fallback-ul au eșuat.\")\n",
        "\n",
        "new_dataset_path = None\n",
        "if original_dataset_path and os.path.exists(original_dataset_path):\n",
        "    base_folder_name = dataset_name_to_download.split('/')[-1] if dataset_name_to_download in original_dataset_path else os.path.basename(str(original_dataset_path).rstrip('/'))\n",
        "    new_dataset_path = f\"/content/{base_folder_name}\"\n",
        "\n",
        "    if os.path.exists(new_dataset_path):\n",
        "        shutil.rmtree(new_dataset_path)\n",
        "        print(f\"Directorul existent '{new_dataset_path}' a fost șters.\")\n",
        "\n",
        "    try:\n",
        "        if os.path.isdir(original_dataset_path):\n",
        "            shutil.copytree(original_dataset_path, new_dataset_path)\n",
        "            print(f\"Dataset copiat în '{new_dataset_path}'.\")\n",
        "        else: # Ar putea fi un fișier dacă kagglehub se schimbă sau fallback-ul e un fișier\n",
        "            os.makedirs(os.path.dirname(new_dataset_path), exist_ok=True)\n",
        "            shutil.copy2(original_dataset_path, new_dataset_path)\n",
        "            print(f\"Fișier dataset copiat în '{new_dataset_path}'.\")\n",
        "    except Exception as e:\n",
        "        print(f\"Eroare la copierea datasetului: {e}\")\n",
        "        new_dataset_path = None\n",
        "else:\n",
        "    print(\"Nicio sursă validă pentru dataset. Copierea nu va avea loc.\")\n",
        "\n",
        "if new_dataset_path and os.path.exists(new_dataset_path):\n",
        "    print(f\"Proces finalizat. Dataset disponibil la: {new_dataset_path}\")\n",
        "else:\n",
        "    print(\"Procesul nu s-a finalizat cu succes.\")"
      ],
      "metadata": {
        "colab": {
          "base_uri": "https://localhost:8080/"
        },
        "id": "Zk_RzWUJ_I9S",
        "outputId": "bcb50719-3a44-4f72-a67d-79d493ef2441"
      },
      "execution_count": null,
      "outputs": [
        {
          "output_type": "stream",
          "name": "stdout",
          "text": [
            "Variabilele de mediu Kaggle setate.\n",
            "Downloading from https://www.kaggle.com/api/v1/datasets/download/ionutcasapiu/crop-leaf-disease-general?dataset_version_number=2...\n"
          ]
        },
        {
          "output_type": "stream",
          "name": "stderr",
          "text": [
            "100%|██████████| 1.59G/1.59G [00:12<00:00, 133MB/s]"
          ]
        },
        {
          "output_type": "stream",
          "name": "stdout",
          "text": [
            "Extracting files...\n"
          ]
        },
        {
          "output_type": "stream",
          "name": "stderr",
          "text": [
            "\n"
          ]
        },
        {
          "output_type": "stream",
          "name": "stdout",
          "text": [
            "Dataset 'ionutcasapiu/crop-leaf-disease-general' descărcat în: /root/.cache/kagglehub/datasets/ionutcasapiu/crop-leaf-disease-general/versions/2\n",
            "Dataset copiat în '/content/crop-leaf-disease-general'.\n",
            "Proces finalizat. Dataset disponibil la: /content/crop-leaf-disease-general\n"
          ]
        }
      ]
    },
    {
      "cell_type": "code",
      "source": [
        "# Folosește copytree pentru a copia dacă nu există deja la destinație\n",
        "if not os.path.exists(new_dataset_path):\n",
        "    # Asigură-te că sursa există înainte de a încerca copierea\n",
        "    if os.path.exists(original_dataset_path):\n",
        "        print(f\"Copiez datasetul din {original_dataset_path} în {new_dataset_path}...\")\n",
        "        try:\n",
        "            shutil.copytree(original_dataset_path, new_dataset_path)\n",
        "            print(f\"Dataset copiat cu succes în: {new_dataset_path}\")\n",
        "            data_dir = new_dataset_path\n",
        "        except Exception as e_copy:\n",
        "            print(f\"EROARE la copierea datasetului: {e_copy}\")\n",
        "            # Poate oprește scriptul sau setează data_dir la o cale alternativă dacă există\n",
        "            data_dir = None # Indică o problemă\n",
        "    else:\n",
        "        print(f\"EROARE: Calea sursă '{original_dataset_path}' nu există. Verifică calea.\")\n",
        "        data_dir = None # Indică o problemă\n",
        "else:\n",
        "    print(f\"Datasetul există deja la: {new_dataset_path}\")\n",
        "    data_dir = new_dataset_path\n",
        "\n",
        "# Oprește execuția dacă data_dir nu a putut fi setat\n",
        "if data_dir is None:\n",
        "    print(\"Directorul cu date nu este valid. Se oprește execuția.\")\n",
        "    exit()\n"
      ],
      "metadata": {
        "colab": {
          "base_uri": "https://localhost:8080/"
        },
        "id": "uOTM5f0i_Yjj",
        "outputId": "eab303b1-facf-41af-a322-e2780185fe8b"
      },
      "execution_count": null,
      "outputs": [
        {
          "output_type": "stream",
          "name": "stdout",
          "text": [
            "Datasetul există deja la: /content/crop-leaf-disease-general\n"
          ]
        }
      ]
    },
    {
      "cell_type": "markdown",
      "source": [
        "# Validare Imagini"
      ],
      "metadata": {
        "id": "qqMJOz9NrifG"
      }
    },
    {
      "cell_type": "code",
      "source": [
        "print(\"\\n--- Pornesc validarea imaginilor ---\")\n",
        "subsets = [\"/content/crop-leaf-disease-general/dataset/Train/Train\", \"/content/crop-leaf-disease-general/dataset/Validation/Validation\", \"/content/crop-leaf-disease-general/dataset/Test\"]\n",
        "removed_files_count = 0\n",
        "\n",
        "for subset in subsets:\n",
        "    subset_path = os.path.join(data_dir, subset)\n",
        "    if not os.path.exists(subset_path):\n",
        "        print(f\"Atenție: Calea pentru subset '{subset_path}' nu a fost găsită, se sare peste.\")\n",
        "        continue\n",
        "\n",
        "    print(f\"Se verifică subsetul: {subset}\")\n",
        "    for image_class in os.listdir(subset_path):\n",
        "        class_path = os.path.join(subset_path, image_class)\n",
        "        if not os.path.isdir(class_path):\n",
        "            continue\n",
        "        for image_file_name in os.listdir(class_path):\n",
        "            image_path = os.path.join(class_path, image_file_name)\n",
        "            if not os.path.isfile(image_path):\n",
        "                 continue\n",
        "            try:\n",
        "                img = cv2.imread(image_path)\n",
        "                if img is None:\n",
        "                    print(f'(!) Problemă imagine (cv2 nu a putut citi): {image_path}')\n",
        "                    #ȘTERGE fișierul CU problemE\n",
        "                    try:\n",
        "                        os.remove(image_path)\n",
        "                        removed_files_count += 1\n",
        "                        print(f'    -> Fișier șters: {image_path}')\n",
        "                    except OSError as e_remove:\n",
        "                        print(f'    -> EROARE la ștergere: {e_remove}')\n",
        "            except Exception as e:\n",
        "                print(f'(!) Problemă imagine (excepție la procesare): {image_path}, Eroare: {e}')\n",
        "                # ȘTERGE fișierul cu probleme\n",
        "                try:\n",
        "                    os.remove(image_path)\n",
        "                    removed_files_count += 1\n",
        "                    print(f'    -> Fișier șters: {image_path}')\n",
        "                except OSError as e_remove:\n",
        "                    print(f'    -> EROARE la ștergere: {e_remove}')\n",
        "\n",
        "print(f\"Validarea imaginilor s-a terminat. Fișiere problematice raportate (dacă există).\")\n",
        "if removed_files_count > 0:\n",
        "    print(f\"Au fost șterse {removed_files_count} fișiere problematice.\")\n"
      ],
      "metadata": {
        "colab": {
          "base_uri": "https://localhost:8080/"
        },
        "id": "kA9WIvkp_pkd",
        "outputId": "fbfcf332-f896-4913-d985-f6a7d2006d1e"
      },
      "execution_count": null,
      "outputs": [
        {
          "output_type": "stream",
          "name": "stdout",
          "text": [
            "\n",
            "--- Pornesc validarea imaginilor ---\n",
            "Se verifică subsetul: /content/crop-leaf-disease-general/dataset/Train/Train\n",
            "Se verifică subsetul: /content/crop-leaf-disease-general/dataset/Validation/Validation\n",
            "Se verifică subsetul: /content/crop-leaf-disease-general/dataset/Test\n",
            "Validarea imaginilor s-a terminat. Fișiere problematice raportate (dacă există).\n"
          ]
        }
      ]
    },
    {
      "cell_type": "code",
      "source": [
        "# --- Definire Căi pentru Generatoare ---\n",
        "print(\"\\n--- Definire căi pentru generatoare ---\")\n",
        "train_dir = os.path.join(data_dir, \"dataset/Train\", \"Train\")\n",
        "valid_dir = os.path.join(data_dir, \"dataset/Validation\", \"Validation\")\n",
        "test_dir = os.path.join(data_dir, \"dataset\", \"Test\")\n",
        "\n",
        "# Verificăm existența folderelor\n",
        "print(f\"Verific Train: {train_dir} - Există? {os.path.exists(train_dir)}\")\n",
        "print(f\"Verific Valid: {valid_dir} - Există? {os.path.exists(valid_dir)}\")\n",
        "print(f\"Verific Test: {test_dir} - Există? {os.path.exists(test_dir)}\")\n",
        "\n",
        "# Oprește dacă directoarele principale lipsesc\n",
        "if not os.path.exists(train_dir) or not os.path.exists(valid_dir) or not os.path.exists(test_dir):\n",
        "    print(\"EROARE: Unul sau mai multe directoare (Train, Validation, Test) lipsesc. Verifică structura.\")\n",
        "    exit()\n"
      ],
      "metadata": {
        "colab": {
          "base_uri": "https://localhost:8080/"
        },
        "id": "lwSigBnR_x9v",
        "outputId": "29058d72-63f9-4dd0-9fb0-ca9b7c4697f6"
      },
      "execution_count": null,
      "outputs": [
        {
          "output_type": "stream",
          "name": "stdout",
          "text": [
            "\n",
            "--- Definire căi pentru generatoare ---\n",
            "Verific Train: /content/crop-leaf-disease-general/dataset/Train/Train - Există? True\n",
            "Verific Valid: /content/crop-leaf-disease-general/dataset/Validation/Validation - Există? True\n",
            "Verific Test: /content/crop-leaf-disease-general/dataset/Test - Există? True\n"
          ]
        }
      ]
    },
    {
      "cell_type": "markdown",
      "source": [
        "# Augmentare"
      ],
      "metadata": {
        "id": "PpS-s-dHscjr"
      }
    },
    {
      "cell_type": "code",
      "source": [
        "\n",
        "IMG_SIZE = (256, 256)\n",
        "INPUT_SHAPE = (256, 256, 3)\n",
        "BATCH_SIZE = 32 # Am lasat 32 pt ca la 64 am pierdut date si timpul era prea mare\n",
        "\n",
        "\n",
        "print(\"\\n--- Creare generatoare de date ---\")\n",
        "\n",
        "#1. Generator pentru antrenare\n",
        "train_datagen = ImageDataGenerator(\n",
        "    rescale=1./255,\n",
        "    rotation_range=30,\n",
        "    width_shift_range=0.1,\n",
        "    height_shift_range=0.1,\n",
        "    #shear_range=0.1,\n",
        "    zoom_range=0.1,\n",
        "    horizontal_flip=True,\n",
        "    vertical_flip=True,\n",
        "    fill_mode='nearest'\n",
        ")\n",
        "\n",
        "#train_datagen = ImageDataGenerator(rescale=1./255)\n",
        "\n",
        "# 2. Generator pentru validare\n",
        "validation_datagen = ImageDataGenerator(rescale=1./255)\n",
        "\n",
        "# 3. Generator pentru test\n",
        "test_datagen = ImageDataGenerator(rescale=1./255)\n"
      ],
      "metadata": {
        "colab": {
          "base_uri": "https://localhost:8080/"
        },
        "id": "4ozvZNaf_2RD",
        "outputId": "e49e44f1-ecf6-4806-eb6f-5946eeff15e5"
      },
      "execution_count": null,
      "outputs": [
        {
          "output_type": "stream",
          "name": "stdout",
          "text": [
            "\n",
            "--- Creare generatoare de date ---\n"
          ]
        }
      ]
    },
    {
      "cell_type": "code",
      "source": [
        "# --- Creează iteratoarele din directoare ---\n",
        "train_generator = train_datagen.flow_from_directory(\n",
        "    train_dir,\n",
        "    target_size=IMG_SIZE,\n",
        "    batch_size=BATCH_SIZE,\n",
        "    class_mode='categorical', # Asigură-te că loss-ul e 'categorical_crossentropy'\n",
        "    shuffle=True\n",
        ")\n",
        "\n",
        "validation_generator = validation_datagen.flow_from_directory(\n",
        "    valid_dir,\n",
        "    target_size=IMG_SIZE,\n",
        "    batch_size=BATCH_SIZE,\n",
        "    class_mode='categorical',\n",
        "    shuffle=False # Nu amesteca la validare\n",
        ")\n",
        "\n",
        "test_generator = test_datagen.flow_from_directory(\n",
        "    test_dir,\n",
        "    target_size=IMG_SIZE,\n",
        "    batch_size=BATCH_SIZE,\n",
        "    class_mode='categorical',\n",
        "    shuffle=False # Nu amesteca la test\n",
        ")\n"
      ],
      "metadata": {
        "colab": {
          "base_uri": "https://localhost:8080/"
        },
        "id": "ZPzbDDoJ_717",
        "outputId": "65acd672-2a74-4e21-b30d-b721da4a024d"
      },
      "execution_count": null,
      "outputs": [
        {
          "output_type": "stream",
          "name": "stdout",
          "text": [
            "Found 9098 images belonging to 3 classes.\n",
            "Found 2107 images belonging to 3 classes.\n",
            "Found 1321 images belonging to 3 classes.\n"
          ]
        }
      ]
    },
    {
      "cell_type": "code",
      "source": [
        "# Obține clasele și numărul lor\n",
        "class_indices = train_generator.class_indices\n",
        "class_names = list(class_indices.keys())\n",
        "n_classes = len(class_names)\n",
        "print(f\"Clase găsite ({n_classes}): {class_names}\")\n",
        "print(\"Mapare index->clasă:\", class_indices)\n"
      ],
      "metadata": {
        "colab": {
          "base_uri": "https://localhost:8080/"
        },
        "id": "wFXMbCZyAGE9",
        "outputId": "53b1566f-19eb-4d70-9c6b-9326f6345c34"
      },
      "execution_count": null,
      "outputs": [
        {
          "output_type": "stream",
          "name": "stdout",
          "text": [
            "Clase găsite (3): ['Healthy', 'Powdery', 'Rust']\n",
            "Mapare index->clasă: {'Healthy': 0, 'Powdery': 1, 'Rust': 2}\n"
          ]
        }
      ]
    },
    {
      "cell_type": "markdown",
      "source": [
        "## Construirea modelului"
      ],
      "metadata": {
        "id": "k0a0uVB8tCfr"
      }
    },
    {
      "cell_type": "code",
      "source": [
        "# --- Construire Model ---\n",
        "print(\"\\n--- Construire model ---\")\n",
        "model = Sequential(name=\"Leaf_Disease_CNN\")\n",
        "\n",
        "# Strat de input explicit\n",
        "model.add(layers.Input(shape=INPUT_SHAPE))\n",
        "\n",
        "# Bloc 1\n",
        "model.add(layers.Conv2D(32, (5, 5), strides=(1, 1), activation='relu', padding='same', name='conv1'))\n",
        "model.add(layers.BatchNormalization(name='bn1'))\n",
        "model.add(layers.MaxPool2D(pool_size=(2, 2), name='pool1'))\n",
        "\n",
        "# Bloc 2\n",
        "model.add(layers.Conv2D(64, (3, 3), activation='relu', padding='same', name='conv2'))\n",
        "model.add(layers.BatchNormalization(name='bn2'))\n",
        "model.add(layers.MaxPool2D(pool_size=(2, 2), name='pool2'))\n",
        "\n",
        "# Bloc 3\n",
        "model.add(layers.Conv2D(128, (3, 3), activation='relu', padding='same', name='conv3'))\n",
        "model.add(layers.BatchNormalization(name='bn3'))\n",
        "model.add(layers.MaxPool2D(pool_size=(2, 2), name='pool3'))\n",
        "\n",
        "# Bloc 4\n",
        "model.add(layers.Conv2D(256, (3, 3), activation='relu', padding='same', name='conv4'))\n",
        "model.add(layers.BatchNormalization(name='bn4'))\n",
        "model.add(layers.MaxPool2D(pool_size=(2, 2), name='pool4'))\n",
        "\n",
        "# Bloc 5\n",
        "model.add(layers.Conv2D(512, (3, 3), activation='relu', padding='same', name='conv5'))\n",
        "model.add(layers.BatchNormalization(name='bn5'))\n",
        "model.add(layers.MaxPool2D(pool_size=(2, 2), name='pool5'))\n",
        "\n",
        "# Bloc Fully Connected\n",
        "model.add(layers.Flatten(name='flatten'))\n",
        "model.add(layers.Dense(1024, activation='relu', name='dense1'))\n",
        "model.add(layers.BatchNormalization(name='bn_dense1'))\n",
        "model.add(layers.Dropout(0.5, name='dropout1')) # Sa mai ajustez dropout in caz de mi se pare ca vad overfitting\n",
        "\n",
        "#model.add(layers.Dense(128, activation='relu', name='dense2'))\n",
        "#model.add(layers.Dropout(0.5, name='dropout2'))\n",
        "\n",
        "# Strat de ieșire\n",
        "model.add(layers.Dense(n_classes, activation='softmax', name='output'))\n"
      ],
      "metadata": {
        "colab": {
          "base_uri": "https://localhost:8080/"
        },
        "id": "ILieejPEAG8v",
        "outputId": "3a25f096-fb70-4edc-9821-a6c2a35fa941"
      },
      "execution_count": null,
      "outputs": [
        {
          "output_type": "stream",
          "name": "stdout",
          "text": [
            "\n",
            "--- Construire model ---\n"
          ]
        }
      ]
    },
    {
      "cell_type": "markdown",
      "source": [
        "# Compilare Model"
      ],
      "metadata": {
        "id": "dgl7LIKCt8HH"
      }
    },
    {
      "cell_type": "code",
      "source": [
        "print(\"\\n--- Compilare model ---\")\n",
        "optimizer = Adam(learning_rate=1e-4) # LR=0.0003\n",
        "model.compile(\n",
        "    loss='categorical_crossentropy',\n",
        "    optimizer=optimizer,\n",
        "    metrics=['accuracy', Recall(), Precision()] # Adăugat Precision\n",
        ")\n",
        "\n",
        "model.summary()"
      ],
      "metadata": {
        "colab": {
          "base_uri": "https://localhost:8080/",
          "height": 851
        },
        "id": "XUpJzTKmAMGR",
        "outputId": "1d016d87-9af5-4da1-caea-515b07e9a5f0"
      },
      "execution_count": null,
      "outputs": [
        {
          "output_type": "stream",
          "name": "stdout",
          "text": [
            "\n",
            "--- Compilare model ---\n"
          ]
        },
        {
          "output_type": "display_data",
          "data": {
            "text/plain": [
              "\u001b[1mModel: \"Leaf_Disease_CNN\"\u001b[0m\n"
            ],
            "text/html": [
              "<pre style=\"white-space:pre;overflow-x:auto;line-height:normal;font-family:Menlo,'DejaVu Sans Mono',consolas,'Courier New',monospace\"><span style=\"font-weight: bold\">Model: \"Leaf_Disease_CNN\"</span>\n",
              "</pre>\n"
            ]
          },
          "metadata": {}
        },
        {
          "output_type": "display_data",
          "data": {
            "text/plain": [
              "┏━━━━━━━━━━━━━━━━━━━━━━━━━━━━━━━━━┳━━━━━━━━━━━━━━━━━━━━━━━━┳━━━━━━━━━━━━━━━┓\n",
              "┃\u001b[1m \u001b[0m\u001b[1mLayer (type)                   \u001b[0m\u001b[1m \u001b[0m┃\u001b[1m \u001b[0m\u001b[1mOutput Shape          \u001b[0m\u001b[1m \u001b[0m┃\u001b[1m \u001b[0m\u001b[1m      Param #\u001b[0m\u001b[1m \u001b[0m┃\n",
              "┡━━━━━━━━━━━━━━━━━━━━━━━━━━━━━━━━━╇━━━━━━━━━━━━━━━━━━━━━━━━╇━━━━━━━━━━━━━━━┩\n",
              "│ conv1 (\u001b[38;5;33mConv2D\u001b[0m)                  │ (\u001b[38;5;45mNone\u001b[0m, \u001b[38;5;34m256\u001b[0m, \u001b[38;5;34m256\u001b[0m, \u001b[38;5;34m32\u001b[0m)   │         \u001b[38;5;34m2,432\u001b[0m │\n",
              "├─────────────────────────────────┼────────────────────────┼───────────────┤\n",
              "│ bn1 (\u001b[38;5;33mBatchNormalization\u001b[0m)        │ (\u001b[38;5;45mNone\u001b[0m, \u001b[38;5;34m256\u001b[0m, \u001b[38;5;34m256\u001b[0m, \u001b[38;5;34m32\u001b[0m)   │           \u001b[38;5;34m128\u001b[0m │\n",
              "├─────────────────────────────────┼────────────────────────┼───────────────┤\n",
              "│ pool1 (\u001b[38;5;33mMaxPooling2D\u001b[0m)            │ (\u001b[38;5;45mNone\u001b[0m, \u001b[38;5;34m128\u001b[0m, \u001b[38;5;34m128\u001b[0m, \u001b[38;5;34m32\u001b[0m)   │             \u001b[38;5;34m0\u001b[0m │\n",
              "├─────────────────────────────────┼────────────────────────┼───────────────┤\n",
              "│ conv2 (\u001b[38;5;33mConv2D\u001b[0m)                  │ (\u001b[38;5;45mNone\u001b[0m, \u001b[38;5;34m128\u001b[0m, \u001b[38;5;34m128\u001b[0m, \u001b[38;5;34m64\u001b[0m)   │        \u001b[38;5;34m18,496\u001b[0m │\n",
              "├─────────────────────────────────┼────────────────────────┼───────────────┤\n",
              "│ bn2 (\u001b[38;5;33mBatchNormalization\u001b[0m)        │ (\u001b[38;5;45mNone\u001b[0m, \u001b[38;5;34m128\u001b[0m, \u001b[38;5;34m128\u001b[0m, \u001b[38;5;34m64\u001b[0m)   │           \u001b[38;5;34m256\u001b[0m │\n",
              "├─────────────────────────────────┼────────────────────────┼───────────────┤\n",
              "│ pool2 (\u001b[38;5;33mMaxPooling2D\u001b[0m)            │ (\u001b[38;5;45mNone\u001b[0m, \u001b[38;5;34m64\u001b[0m, \u001b[38;5;34m64\u001b[0m, \u001b[38;5;34m64\u001b[0m)     │             \u001b[38;5;34m0\u001b[0m │\n",
              "├─────────────────────────────────┼────────────────────────┼───────────────┤\n",
              "│ conv3 (\u001b[38;5;33mConv2D\u001b[0m)                  │ (\u001b[38;5;45mNone\u001b[0m, \u001b[38;5;34m64\u001b[0m, \u001b[38;5;34m64\u001b[0m, \u001b[38;5;34m128\u001b[0m)    │        \u001b[38;5;34m73,856\u001b[0m │\n",
              "├─────────────────────────────────┼────────────────────────┼───────────────┤\n",
              "│ bn3 (\u001b[38;5;33mBatchNormalization\u001b[0m)        │ (\u001b[38;5;45mNone\u001b[0m, \u001b[38;5;34m64\u001b[0m, \u001b[38;5;34m64\u001b[0m, \u001b[38;5;34m128\u001b[0m)    │           \u001b[38;5;34m512\u001b[0m │\n",
              "├─────────────────────────────────┼────────────────────────┼───────────────┤\n",
              "│ pool3 (\u001b[38;5;33mMaxPooling2D\u001b[0m)            │ (\u001b[38;5;45mNone\u001b[0m, \u001b[38;5;34m32\u001b[0m, \u001b[38;5;34m32\u001b[0m, \u001b[38;5;34m128\u001b[0m)    │             \u001b[38;5;34m0\u001b[0m │\n",
              "├─────────────────────────────────┼────────────────────────┼───────────────┤\n",
              "│ conv4 (\u001b[38;5;33mConv2D\u001b[0m)                  │ (\u001b[38;5;45mNone\u001b[0m, \u001b[38;5;34m32\u001b[0m, \u001b[38;5;34m32\u001b[0m, \u001b[38;5;34m256\u001b[0m)    │       \u001b[38;5;34m295,168\u001b[0m │\n",
              "├─────────────────────────────────┼────────────────────────┼───────────────┤\n",
              "│ bn4 (\u001b[38;5;33mBatchNormalization\u001b[0m)        │ (\u001b[38;5;45mNone\u001b[0m, \u001b[38;5;34m32\u001b[0m, \u001b[38;5;34m32\u001b[0m, \u001b[38;5;34m256\u001b[0m)    │         \u001b[38;5;34m1,024\u001b[0m │\n",
              "├─────────────────────────────────┼────────────────────────┼───────────────┤\n",
              "│ pool4 (\u001b[38;5;33mMaxPooling2D\u001b[0m)            │ (\u001b[38;5;45mNone\u001b[0m, \u001b[38;5;34m16\u001b[0m, \u001b[38;5;34m16\u001b[0m, \u001b[38;5;34m256\u001b[0m)    │             \u001b[38;5;34m0\u001b[0m │\n",
              "├─────────────────────────────────┼────────────────────────┼───────────────┤\n",
              "│ conv5 (\u001b[38;5;33mConv2D\u001b[0m)                  │ (\u001b[38;5;45mNone\u001b[0m, \u001b[38;5;34m16\u001b[0m, \u001b[38;5;34m16\u001b[0m, \u001b[38;5;34m512\u001b[0m)    │     \u001b[38;5;34m1,180,160\u001b[0m │\n",
              "├─────────────────────────────────┼────────────────────────┼───────────────┤\n",
              "│ bn5 (\u001b[38;5;33mBatchNormalization\u001b[0m)        │ (\u001b[38;5;45mNone\u001b[0m, \u001b[38;5;34m16\u001b[0m, \u001b[38;5;34m16\u001b[0m, \u001b[38;5;34m512\u001b[0m)    │         \u001b[38;5;34m2,048\u001b[0m │\n",
              "├─────────────────────────────────┼────────────────────────┼───────────────┤\n",
              "│ pool5 (\u001b[38;5;33mMaxPooling2D\u001b[0m)            │ (\u001b[38;5;45mNone\u001b[0m, \u001b[38;5;34m8\u001b[0m, \u001b[38;5;34m8\u001b[0m, \u001b[38;5;34m512\u001b[0m)      │             \u001b[38;5;34m0\u001b[0m │\n",
              "├─────────────────────────────────┼────────────────────────┼───────────────┤\n",
              "│ flatten (\u001b[38;5;33mFlatten\u001b[0m)               │ (\u001b[38;5;45mNone\u001b[0m, \u001b[38;5;34m32768\u001b[0m)          │             \u001b[38;5;34m0\u001b[0m │\n",
              "├─────────────────────────────────┼────────────────────────┼───────────────┤\n",
              "│ dense1 (\u001b[38;5;33mDense\u001b[0m)                  │ (\u001b[38;5;45mNone\u001b[0m, \u001b[38;5;34m1024\u001b[0m)           │    \u001b[38;5;34m33,555,456\u001b[0m │\n",
              "├─────────────────────────────────┼────────────────────────┼───────────────┤\n",
              "│ bn_dense1 (\u001b[38;5;33mBatchNormalization\u001b[0m)  │ (\u001b[38;5;45mNone\u001b[0m, \u001b[38;5;34m1024\u001b[0m)           │         \u001b[38;5;34m4,096\u001b[0m │\n",
              "├─────────────────────────────────┼────────────────────────┼───────────────┤\n",
              "│ dropout1 (\u001b[38;5;33mDropout\u001b[0m)              │ (\u001b[38;5;45mNone\u001b[0m, \u001b[38;5;34m1024\u001b[0m)           │             \u001b[38;5;34m0\u001b[0m │\n",
              "├─────────────────────────────────┼────────────────────────┼───────────────┤\n",
              "│ output (\u001b[38;5;33mDense\u001b[0m)                  │ (\u001b[38;5;45mNone\u001b[0m, \u001b[38;5;34m3\u001b[0m)              │         \u001b[38;5;34m3,075\u001b[0m │\n",
              "└─────────────────────────────────┴────────────────────────┴───────────────┘\n"
            ],
            "text/html": [
              "<pre style=\"white-space:pre;overflow-x:auto;line-height:normal;font-family:Menlo,'DejaVu Sans Mono',consolas,'Courier New',monospace\">┏━━━━━━━━━━━━━━━━━━━━━━━━━━━━━━━━━┳━━━━━━━━━━━━━━━━━━━━━━━━┳━━━━━━━━━━━━━━━┓\n",
              "┃<span style=\"font-weight: bold\"> Layer (type)                    </span>┃<span style=\"font-weight: bold\"> Output Shape           </span>┃<span style=\"font-weight: bold\">       Param # </span>┃\n",
              "┡━━━━━━━━━━━━━━━━━━━━━━━━━━━━━━━━━╇━━━━━━━━━━━━━━━━━━━━━━━━╇━━━━━━━━━━━━━━━┩\n",
              "│ conv1 (<span style=\"color: #0087ff; text-decoration-color: #0087ff\">Conv2D</span>)                  │ (<span style=\"color: #00d7ff; text-decoration-color: #00d7ff\">None</span>, <span style=\"color: #00af00; text-decoration-color: #00af00\">256</span>, <span style=\"color: #00af00; text-decoration-color: #00af00\">256</span>, <span style=\"color: #00af00; text-decoration-color: #00af00\">32</span>)   │         <span style=\"color: #00af00; text-decoration-color: #00af00\">2,432</span> │\n",
              "├─────────────────────────────────┼────────────────────────┼───────────────┤\n",
              "│ bn1 (<span style=\"color: #0087ff; text-decoration-color: #0087ff\">BatchNormalization</span>)        │ (<span style=\"color: #00d7ff; text-decoration-color: #00d7ff\">None</span>, <span style=\"color: #00af00; text-decoration-color: #00af00\">256</span>, <span style=\"color: #00af00; text-decoration-color: #00af00\">256</span>, <span style=\"color: #00af00; text-decoration-color: #00af00\">32</span>)   │           <span style=\"color: #00af00; text-decoration-color: #00af00\">128</span> │\n",
              "├─────────────────────────────────┼────────────────────────┼───────────────┤\n",
              "│ pool1 (<span style=\"color: #0087ff; text-decoration-color: #0087ff\">MaxPooling2D</span>)            │ (<span style=\"color: #00d7ff; text-decoration-color: #00d7ff\">None</span>, <span style=\"color: #00af00; text-decoration-color: #00af00\">128</span>, <span style=\"color: #00af00; text-decoration-color: #00af00\">128</span>, <span style=\"color: #00af00; text-decoration-color: #00af00\">32</span>)   │             <span style=\"color: #00af00; text-decoration-color: #00af00\">0</span> │\n",
              "├─────────────────────────────────┼────────────────────────┼───────────────┤\n",
              "│ conv2 (<span style=\"color: #0087ff; text-decoration-color: #0087ff\">Conv2D</span>)                  │ (<span style=\"color: #00d7ff; text-decoration-color: #00d7ff\">None</span>, <span style=\"color: #00af00; text-decoration-color: #00af00\">128</span>, <span style=\"color: #00af00; text-decoration-color: #00af00\">128</span>, <span style=\"color: #00af00; text-decoration-color: #00af00\">64</span>)   │        <span style=\"color: #00af00; text-decoration-color: #00af00\">18,496</span> │\n",
              "├─────────────────────────────────┼────────────────────────┼───────────────┤\n",
              "│ bn2 (<span style=\"color: #0087ff; text-decoration-color: #0087ff\">BatchNormalization</span>)        │ (<span style=\"color: #00d7ff; text-decoration-color: #00d7ff\">None</span>, <span style=\"color: #00af00; text-decoration-color: #00af00\">128</span>, <span style=\"color: #00af00; text-decoration-color: #00af00\">128</span>, <span style=\"color: #00af00; text-decoration-color: #00af00\">64</span>)   │           <span style=\"color: #00af00; text-decoration-color: #00af00\">256</span> │\n",
              "├─────────────────────────────────┼────────────────────────┼───────────────┤\n",
              "│ pool2 (<span style=\"color: #0087ff; text-decoration-color: #0087ff\">MaxPooling2D</span>)            │ (<span style=\"color: #00d7ff; text-decoration-color: #00d7ff\">None</span>, <span style=\"color: #00af00; text-decoration-color: #00af00\">64</span>, <span style=\"color: #00af00; text-decoration-color: #00af00\">64</span>, <span style=\"color: #00af00; text-decoration-color: #00af00\">64</span>)     │             <span style=\"color: #00af00; text-decoration-color: #00af00\">0</span> │\n",
              "├─────────────────────────────────┼────────────────────────┼───────────────┤\n",
              "│ conv3 (<span style=\"color: #0087ff; text-decoration-color: #0087ff\">Conv2D</span>)                  │ (<span style=\"color: #00d7ff; text-decoration-color: #00d7ff\">None</span>, <span style=\"color: #00af00; text-decoration-color: #00af00\">64</span>, <span style=\"color: #00af00; text-decoration-color: #00af00\">64</span>, <span style=\"color: #00af00; text-decoration-color: #00af00\">128</span>)    │        <span style=\"color: #00af00; text-decoration-color: #00af00\">73,856</span> │\n",
              "├─────────────────────────────────┼────────────────────────┼───────────────┤\n",
              "│ bn3 (<span style=\"color: #0087ff; text-decoration-color: #0087ff\">BatchNormalization</span>)        │ (<span style=\"color: #00d7ff; text-decoration-color: #00d7ff\">None</span>, <span style=\"color: #00af00; text-decoration-color: #00af00\">64</span>, <span style=\"color: #00af00; text-decoration-color: #00af00\">64</span>, <span style=\"color: #00af00; text-decoration-color: #00af00\">128</span>)    │           <span style=\"color: #00af00; text-decoration-color: #00af00\">512</span> │\n",
              "├─────────────────────────────────┼────────────────────────┼───────────────┤\n",
              "│ pool3 (<span style=\"color: #0087ff; text-decoration-color: #0087ff\">MaxPooling2D</span>)            │ (<span style=\"color: #00d7ff; text-decoration-color: #00d7ff\">None</span>, <span style=\"color: #00af00; text-decoration-color: #00af00\">32</span>, <span style=\"color: #00af00; text-decoration-color: #00af00\">32</span>, <span style=\"color: #00af00; text-decoration-color: #00af00\">128</span>)    │             <span style=\"color: #00af00; text-decoration-color: #00af00\">0</span> │\n",
              "├─────────────────────────────────┼────────────────────────┼───────────────┤\n",
              "│ conv4 (<span style=\"color: #0087ff; text-decoration-color: #0087ff\">Conv2D</span>)                  │ (<span style=\"color: #00d7ff; text-decoration-color: #00d7ff\">None</span>, <span style=\"color: #00af00; text-decoration-color: #00af00\">32</span>, <span style=\"color: #00af00; text-decoration-color: #00af00\">32</span>, <span style=\"color: #00af00; text-decoration-color: #00af00\">256</span>)    │       <span style=\"color: #00af00; text-decoration-color: #00af00\">295,168</span> │\n",
              "├─────────────────────────────────┼────────────────────────┼───────────────┤\n",
              "│ bn4 (<span style=\"color: #0087ff; text-decoration-color: #0087ff\">BatchNormalization</span>)        │ (<span style=\"color: #00d7ff; text-decoration-color: #00d7ff\">None</span>, <span style=\"color: #00af00; text-decoration-color: #00af00\">32</span>, <span style=\"color: #00af00; text-decoration-color: #00af00\">32</span>, <span style=\"color: #00af00; text-decoration-color: #00af00\">256</span>)    │         <span style=\"color: #00af00; text-decoration-color: #00af00\">1,024</span> │\n",
              "├─────────────────────────────────┼────────────────────────┼───────────────┤\n",
              "│ pool4 (<span style=\"color: #0087ff; text-decoration-color: #0087ff\">MaxPooling2D</span>)            │ (<span style=\"color: #00d7ff; text-decoration-color: #00d7ff\">None</span>, <span style=\"color: #00af00; text-decoration-color: #00af00\">16</span>, <span style=\"color: #00af00; text-decoration-color: #00af00\">16</span>, <span style=\"color: #00af00; text-decoration-color: #00af00\">256</span>)    │             <span style=\"color: #00af00; text-decoration-color: #00af00\">0</span> │\n",
              "├─────────────────────────────────┼────────────────────────┼───────────────┤\n",
              "│ conv5 (<span style=\"color: #0087ff; text-decoration-color: #0087ff\">Conv2D</span>)                  │ (<span style=\"color: #00d7ff; text-decoration-color: #00d7ff\">None</span>, <span style=\"color: #00af00; text-decoration-color: #00af00\">16</span>, <span style=\"color: #00af00; text-decoration-color: #00af00\">16</span>, <span style=\"color: #00af00; text-decoration-color: #00af00\">512</span>)    │     <span style=\"color: #00af00; text-decoration-color: #00af00\">1,180,160</span> │\n",
              "├─────────────────────────────────┼────────────────────────┼───────────────┤\n",
              "│ bn5 (<span style=\"color: #0087ff; text-decoration-color: #0087ff\">BatchNormalization</span>)        │ (<span style=\"color: #00d7ff; text-decoration-color: #00d7ff\">None</span>, <span style=\"color: #00af00; text-decoration-color: #00af00\">16</span>, <span style=\"color: #00af00; text-decoration-color: #00af00\">16</span>, <span style=\"color: #00af00; text-decoration-color: #00af00\">512</span>)    │         <span style=\"color: #00af00; text-decoration-color: #00af00\">2,048</span> │\n",
              "├─────────────────────────────────┼────────────────────────┼───────────────┤\n",
              "│ pool5 (<span style=\"color: #0087ff; text-decoration-color: #0087ff\">MaxPooling2D</span>)            │ (<span style=\"color: #00d7ff; text-decoration-color: #00d7ff\">None</span>, <span style=\"color: #00af00; text-decoration-color: #00af00\">8</span>, <span style=\"color: #00af00; text-decoration-color: #00af00\">8</span>, <span style=\"color: #00af00; text-decoration-color: #00af00\">512</span>)      │             <span style=\"color: #00af00; text-decoration-color: #00af00\">0</span> │\n",
              "├─────────────────────────────────┼────────────────────────┼───────────────┤\n",
              "│ flatten (<span style=\"color: #0087ff; text-decoration-color: #0087ff\">Flatten</span>)               │ (<span style=\"color: #00d7ff; text-decoration-color: #00d7ff\">None</span>, <span style=\"color: #00af00; text-decoration-color: #00af00\">32768</span>)          │             <span style=\"color: #00af00; text-decoration-color: #00af00\">0</span> │\n",
              "├─────────────────────────────────┼────────────────────────┼───────────────┤\n",
              "│ dense1 (<span style=\"color: #0087ff; text-decoration-color: #0087ff\">Dense</span>)                  │ (<span style=\"color: #00d7ff; text-decoration-color: #00d7ff\">None</span>, <span style=\"color: #00af00; text-decoration-color: #00af00\">1024</span>)           │    <span style=\"color: #00af00; text-decoration-color: #00af00\">33,555,456</span> │\n",
              "├─────────────────────────────────┼────────────────────────┼───────────────┤\n",
              "│ bn_dense1 (<span style=\"color: #0087ff; text-decoration-color: #0087ff\">BatchNormalization</span>)  │ (<span style=\"color: #00d7ff; text-decoration-color: #00d7ff\">None</span>, <span style=\"color: #00af00; text-decoration-color: #00af00\">1024</span>)           │         <span style=\"color: #00af00; text-decoration-color: #00af00\">4,096</span> │\n",
              "├─────────────────────────────────┼────────────────────────┼───────────────┤\n",
              "│ dropout1 (<span style=\"color: #0087ff; text-decoration-color: #0087ff\">Dropout</span>)              │ (<span style=\"color: #00d7ff; text-decoration-color: #00d7ff\">None</span>, <span style=\"color: #00af00; text-decoration-color: #00af00\">1024</span>)           │             <span style=\"color: #00af00; text-decoration-color: #00af00\">0</span> │\n",
              "├─────────────────────────────────┼────────────────────────┼───────────────┤\n",
              "│ output (<span style=\"color: #0087ff; text-decoration-color: #0087ff\">Dense</span>)                  │ (<span style=\"color: #00d7ff; text-decoration-color: #00d7ff\">None</span>, <span style=\"color: #00af00; text-decoration-color: #00af00\">3</span>)              │         <span style=\"color: #00af00; text-decoration-color: #00af00\">3,075</span> │\n",
              "└─────────────────────────────────┴────────────────────────┴───────────────┘\n",
              "</pre>\n"
            ]
          },
          "metadata": {}
        },
        {
          "output_type": "display_data",
          "data": {
            "text/plain": [
              "\u001b[1m Total params: \u001b[0m\u001b[38;5;34m35,136,707\u001b[0m (134.04 MB)\n"
            ],
            "text/html": [
              "<pre style=\"white-space:pre;overflow-x:auto;line-height:normal;font-family:Menlo,'DejaVu Sans Mono',consolas,'Courier New',monospace\"><span style=\"font-weight: bold\"> Total params: </span><span style=\"color: #00af00; text-decoration-color: #00af00\">35,136,707</span> (134.04 MB)\n",
              "</pre>\n"
            ]
          },
          "metadata": {}
        },
        {
          "output_type": "display_data",
          "data": {
            "text/plain": [
              "\u001b[1m Trainable params: \u001b[0m\u001b[38;5;34m35,132,675\u001b[0m (134.02 MB)\n"
            ],
            "text/html": [
              "<pre style=\"white-space:pre;overflow-x:auto;line-height:normal;font-family:Menlo,'DejaVu Sans Mono',consolas,'Courier New',monospace\"><span style=\"font-weight: bold\"> Trainable params: </span><span style=\"color: #00af00; text-decoration-color: #00af00\">35,132,675</span> (134.02 MB)\n",
              "</pre>\n"
            ]
          },
          "metadata": {}
        },
        {
          "output_type": "display_data",
          "data": {
            "text/plain": [
              "\u001b[1m Non-trainable params: \u001b[0m\u001b[38;5;34m4,032\u001b[0m (15.75 KB)\n"
            ],
            "text/html": [
              "<pre style=\"white-space:pre;overflow-x:auto;line-height:normal;font-family:Menlo,'DejaVu Sans Mono',consolas,'Courier New',monospace\"><span style=\"font-weight: bold\"> Non-trainable params: </span><span style=\"color: #00af00; text-decoration-color: #00af00\">4,032</span> (15.75 KB)\n",
              "</pre>\n"
            ]
          },
          "metadata": {}
        }
      ]
    },
    {
      "cell_type": "code",
      "source": [
        "# --- Definire Callbacks ---\n",
        "print(\"\\n--- Definire callbacks ---\")\n",
        "logdir = 'logs'\n",
        "if not os.path.exists(logdir):\n",
        "    os.makedirs(logdir)\n",
        "\n",
        "tensorboard_callback = TensorBoard(log_dir=logdir)\n"
      ],
      "metadata": {
        "colab": {
          "base_uri": "https://localhost:8080/"
        },
        "id": "lndZLO7kAQHd",
        "outputId": "36becb35-128f-4b0a-c1fd-2f0c7851fd94"
      },
      "execution_count": null,
      "outputs": [
        {
          "output_type": "stream",
          "name": "stdout",
          "text": [
            "\n",
            "--- Definire callbacks ---\n"
          ]
        }
      ]
    },
    {
      "cell_type": "code",
      "source": [
        "# Salvează modelul\n",
        "checkpoint_filepath = 'best_leaf_model.keras'\n",
        "checkpoint_callback = ModelCheckpoint(\n",
        "    filepath=checkpoint_filepath,\n",
        "    monitor='val_loss',\n",
        "    mode='min',\n",
        "    save_best_only=True,\n",
        "    verbose=1\n",
        ")"
      ],
      "metadata": {
        "id": "tf2U2bXjAT6t"
      },
      "execution_count": null,
      "outputs": []
    },
    {
      "cell_type": "code",
      "source": [
        "# Oprire timpurie\n",
        "early_stopping_callback = EarlyStopping(\n",
        "    monitor='val_loss',            # Monitorizează pierderea pe validare\n",
        "    patience=20,                   #(nr. epoci fără îmbunătățire)\n",
        "    verbose=1,\n",
        "    restore_best_weights=True      # Revine la cele mai bune ponderi la final\n",
        ")\n",
        "\n",
        "# Reducere rată de învățare\n",
        "lr_scheduler = ReduceLROnPlateau(\n",
        "    monitor='val_loss',\n",
        "    factor=0.5,                    # Factor de reducere LR\n",
        "    patience=6,\n",
        "    verbose=1,\n",
        "    min_lr=1e-6\n",
        ")"
      ],
      "metadata": {
        "id": "-iJ2ID6eAcCr"
      },
      "execution_count": null,
      "outputs": []
    },
    {
      "cell_type": "markdown",
      "source": [
        "# Antrenare Model"
      ],
      "metadata": {
        "id": "C7_IcRMZufDp"
      }
    },
    {
      "cell_type": "code",
      "source": [
        "print(\"\\n--- Pornire antrenament ---\")\n",
        "EPOCHS = 30\n",
        "\n",
        "# Calculează steps_per_epoch și validation_steps dacă generatoarele nu sunt infinite\n",
        "steps_per_epoch = train_generator.samples // BATCH_SIZE\n",
        "validation_steps = validation_generator.samples // BATCH_SIZE\n",
        "# Adaugă 1 dacă există rest pentru a procesa toate imaginile\n",
        "if train_generator.samples % BATCH_SIZE > 0:\n",
        "    steps_per_epoch += 1\n",
        "if validation_generator.samples % BATCH_SIZE > 0:\n",
        "    validation_steps += 1\n",
        "\n",
        "print(f\"Steps per epoch: {steps_per_epoch}\")\n",
        "print(f\"Validation steps: {validation_steps}\")\n",
        "\n",
        "hist = model.fit(\n",
        "    train_generator,\n",
        "    epochs=EPOCHS,\n",
        "    validation_data=validation_generator,\n",
        "    steps_per_epoch=steps_per_epoch,         # Necesar dacă generatorul e 'infinit' sau pentru claritate\n",
        "    validation_steps=validation_steps,       # Necesar dacă generatorul e 'infinit' sau pentru claritate\n",
        "    callbacks=[tensorboard_callback, checkpoint_callback, lr_scheduler, early_stopping_callback]\n",
        ")\n",
        "\n",
        "print(\"\\n--- Antrenament finalizat ---\")\n",
        "\n",
        "\n",
        "print(\"\\n--- Plotare grafice performanță ---\")\n",
        "# Verifică dacă 'hist.history' conține cheile așteptate\n",
        "print(\"Metrici disponibile în istoric:\", hist.history.keys())"
      ],
      "metadata": {
        "colab": {
          "base_uri": "https://localhost:8080/"
        },
        "id": "5YCJFVAcApax",
        "outputId": "4d29acf7-85e4-443f-8347-a1c5fe56436f"
      },
      "execution_count": null,
      "outputs": [
        {
          "metadata": {
            "tags": null
          },
          "name": "stdout",
          "output_type": "stream",
          "text": [
            "\n",
            "--- Pornire antrenament ---\n",
            "Steps per epoch: 285\n",
            "Validation steps: 66\n"
          ]
        },
        {
          "metadata": {
            "tags": null
          },
          "name": "stderr",
          "output_type": "stream",
          "text": [
            "/usr/local/lib/python3.11/dist-packages/keras/src/trainers/data_adapters/py_dataset_adapter.py:121: UserWarning: Your `PyDataset` class should call `super().__init__(**kwargs)` in its constructor. `**kwargs` can include `workers`, `use_multiprocessing`, `max_queue_size`. Do not pass these arguments to `fit()`, as they will be ignored.\n",
            "  self._warn_if_super_not_called()\n"
          ]
        },
        {
          "output_type": "stream",
          "name": "stdout",
          "text": [
            "Epoch 1/30\n",
            "\u001b[1m285/285\u001b[0m \u001b[32m━━━━━━━━━━━━━━━━━━━━\u001b[0m\u001b[37m\u001b[0m \u001b[1m0s\u001b[0m 764ms/step - accuracy: 0.7734 - loss: 0.8310 - precision: 0.7777 - recall: 0.7669\n",
            "Epoch 1: val_loss improved from inf to 9.85612, saving model to best_leaf_model.keras\n",
            "\u001b[1m285/285\u001b[0m \u001b[32m━━━━━━━━━━━━━━━━━━━━\u001b[0m\u001b[37m\u001b[0m \u001b[1m253s\u001b[0m 832ms/step - accuracy: 0.7736 - loss: 0.8301 - precision: 0.7779 - recall: 0.7671 - val_accuracy: 0.3441 - val_loss: 9.8561 - val_precision: 0.3441 - val_recall: 0.3441 - learning_rate: 1.0000e-04\n",
            "Epoch 2/30\n",
            "\u001b[1m285/285\u001b[0m \u001b[32m━━━━━━━━━━━━━━━━━━━━\u001b[0m\u001b[37m\u001b[0m \u001b[1m0s\u001b[0m 729ms/step - accuracy: 0.9163 - loss: 0.2506 - precision: 0.9197 - recall: 0.9120\n",
            "Epoch 2: val_loss improved from 9.85612 to 0.48104, saving model to best_leaf_model.keras\n",
            "\u001b[1m285/285\u001b[0m \u001b[32m━━━━━━━━━━━━━━━━━━━━\u001b[0m\u001b[37m\u001b[0m \u001b[1m236s\u001b[0m 781ms/step - accuracy: 0.9163 - loss: 0.2505 - precision: 0.9197 - recall: 0.9120 - val_accuracy: 0.8676 - val_loss: 0.4810 - val_precision: 0.8703 - val_recall: 0.8662 - learning_rate: 1.0000e-04\n",
            "Epoch 3/30\n",
            "\u001b[1m285/285\u001b[0m \u001b[32m━━━━━━━━━━━━━━━━━━━━\u001b[0m\u001b[37m\u001b[0m \u001b[1m0s\u001b[0m 740ms/step - accuracy: 0.9365 - loss: 0.1890 - precision: 0.9383 - recall: 0.9347\n",
            "Epoch 3: val_loss improved from 0.48104 to 0.32975, saving model to best_leaf_model.keras\n",
            "\u001b[1m285/285\u001b[0m \u001b[32m━━━━━━━━━━━━━━━━━━━━\u001b[0m\u001b[37m\u001b[0m \u001b[1m267s\u001b[0m 796ms/step - accuracy: 0.9365 - loss: 0.1890 - precision: 0.9383 - recall: 0.9347 - val_accuracy: 0.9165 - val_loss: 0.3297 - val_precision: 0.9177 - val_recall: 0.9160 - learning_rate: 1.0000e-04\n",
            "Epoch 4/30\n",
            "\u001b[1m285/285\u001b[0m \u001b[32m━━━━━━━━━━━━━━━━━━━━\u001b[0m\u001b[37m\u001b[0m \u001b[1m0s\u001b[0m 731ms/step - accuracy: 0.9494 - loss: 0.1656 - precision: 0.9517 - recall: 0.9481\n",
            "Epoch 4: val_loss improved from 0.32975 to 0.15044, saving model to best_leaf_model.keras\n",
            "\u001b[1m285/285\u001b[0m \u001b[32m━━━━━━━━━━━━━━━━━━━━\u001b[0m\u001b[37m\u001b[0m \u001b[1m257s\u001b[0m 779ms/step - accuracy: 0.9494 - loss: 0.1656 - precision: 0.9518 - recall: 0.9481 - val_accuracy: 0.9521 - val_loss: 0.1504 - val_precision: 0.9525 - val_recall: 0.9511 - learning_rate: 1.0000e-04\n",
            "Epoch 5/30\n",
            "\u001b[1m285/285\u001b[0m \u001b[32m━━━━━━━━━━━━━━━━━━━━\u001b[0m\u001b[37m\u001b[0m \u001b[1m0s\u001b[0m 737ms/step - accuracy: 0.9516 - loss: 0.1541 - precision: 0.9530 - recall: 0.9505\n",
            "Epoch 5: val_loss improved from 0.15044 to 0.11993, saving model to best_leaf_model.keras\n",
            "\u001b[1m285/285\u001b[0m \u001b[32m━━━━━━━━━━━━━━━━━━━━\u001b[0m\u001b[37m\u001b[0m \u001b[1m222s\u001b[0m 779ms/step - accuracy: 0.9516 - loss: 0.1541 - precision: 0.9530 - recall: 0.9505 - val_accuracy: 0.9620 - val_loss: 0.1199 - val_precision: 0.9643 - val_recall: 0.9611 - learning_rate: 1.0000e-04\n",
            "Epoch 6/30\n",
            "\u001b[1m285/285\u001b[0m \u001b[32m━━━━━━━━━━━━━━━━━━━━\u001b[0m\u001b[37m\u001b[0m \u001b[1m0s\u001b[0m 740ms/step - accuracy: 0.9628 - loss: 0.1119 - precision: 0.9649 - recall: 0.9625\n",
            "Epoch 6: val_loss improved from 0.11993 to 0.08194, saving model to best_leaf_model.keras\n",
            "\u001b[1m285/285\u001b[0m \u001b[32m━━━━━━━━━━━━━━━━━━━━\u001b[0m\u001b[37m\u001b[0m \u001b[1m225s\u001b[0m 791ms/step - accuracy: 0.9628 - loss: 0.1119 - precision: 0.9649 - recall: 0.9625 - val_accuracy: 0.9692 - val_loss: 0.0819 - val_precision: 0.9705 - val_recall: 0.9682 - learning_rate: 1.0000e-04\n",
            "Epoch 7/30\n",
            "\u001b[1m285/285\u001b[0m \u001b[32m━━━━━━━━━━━━━━━━━━━━\u001b[0m\u001b[37m\u001b[0m \u001b[1m0s\u001b[0m 739ms/step - accuracy: 0.9622 - loss: 0.1113 - precision: 0.9630 - recall: 0.9608\n",
            "Epoch 7: val_loss improved from 0.08194 to 0.07421, saving model to best_leaf_model.keras\n",
            "\u001b[1m285/285\u001b[0m \u001b[32m━━━━━━━━━━━━━━━━━━━━\u001b[0m\u001b[37m\u001b[0m \u001b[1m263s\u001b[0m 792ms/step - accuracy: 0.9622 - loss: 0.1113 - precision: 0.9630 - recall: 0.9608 - val_accuracy: 0.9767 - val_loss: 0.0742 - val_precision: 0.9781 - val_recall: 0.9753 - learning_rate: 1.0000e-04\n",
            "Epoch 8/30\n",
            "\u001b[1m285/285\u001b[0m \u001b[32m━━━━━━━━━━━━━━━━━━━━\u001b[0m\u001b[37m\u001b[0m \u001b[1m0s\u001b[0m 745ms/step - accuracy: 0.9654 - loss: 0.1062 - precision: 0.9668 - recall: 0.9642\n",
            "Epoch 8: val_loss did not improve from 0.07421\n",
            "\u001b[1m285/285\u001b[0m \u001b[32m━━━━━━━━━━━━━━━━━━━━\u001b[0m\u001b[37m\u001b[0m \u001b[1m257s\u001b[0m 775ms/step - accuracy: 0.9654 - loss: 0.1063 - precision: 0.9667 - recall: 0.9641 - val_accuracy: 0.9563 - val_loss: 0.1293 - val_precision: 0.9572 - val_recall: 0.9554 - learning_rate: 1.0000e-04\n",
            "Epoch 9/30\n",
            "\u001b[1m285/285\u001b[0m \u001b[32m━━━━━━━━━━━━━━━━━━━━\u001b[0m\u001b[37m\u001b[0m \u001b[1m0s\u001b[0m 741ms/step - accuracy: 0.9674 - loss: 0.0965 - precision: 0.9694 - recall: 0.9667\n",
            "Epoch 9: val_loss did not improve from 0.07421\n",
            "\u001b[1m285/285\u001b[0m \u001b[32m━━━━━━━━━━━━━━━━━━━━\u001b[0m\u001b[37m\u001b[0m \u001b[1m220s\u001b[0m 771ms/step - accuracy: 0.9674 - loss: 0.0966 - precision: 0.9694 - recall: 0.9667 - val_accuracy: 0.9639 - val_loss: 0.1309 - val_precision: 0.9644 - val_recall: 0.9630 - learning_rate: 1.0000e-04\n",
            "Epoch 10/30\n",
            "\u001b[1m285/285\u001b[0m \u001b[32m━━━━━━━━━━━━━━━━━━━━\u001b[0m\u001b[37m\u001b[0m \u001b[1m0s\u001b[0m 741ms/step - accuracy: 0.9673 - loss: 0.1063 - precision: 0.9681 - recall: 0.9663\n",
            "Epoch 10: val_loss improved from 0.07421 to 0.06341, saving model to best_leaf_model.keras\n",
            "\u001b[1m285/285\u001b[0m \u001b[32m━━━━━━━━━━━━━━━━━━━━\u001b[0m\u001b[37m\u001b[0m \u001b[1m226s\u001b[0m 794ms/step - accuracy: 0.9674 - loss: 0.1062 - precision: 0.9681 - recall: 0.9663 - val_accuracy: 0.9782 - val_loss: 0.0634 - val_precision: 0.9786 - val_recall: 0.9767 - learning_rate: 1.0000e-04\n",
            "Epoch 11/30\n",
            "\u001b[1m285/285\u001b[0m \u001b[32m━━━━━━━━━━━━━━━━━━━━\u001b[0m\u001b[37m\u001b[0m \u001b[1m0s\u001b[0m 751ms/step - accuracy: 0.9730 - loss: 0.0827 - precision: 0.9737 - recall: 0.9728\n",
            "Epoch 11: val_loss did not improve from 0.06341\n",
            "\u001b[1m285/285\u001b[0m \u001b[32m━━━━━━━━━━━━━━━━━━━━\u001b[0m\u001b[37m\u001b[0m \u001b[1m223s\u001b[0m 780ms/step - accuracy: 0.9730 - loss: 0.0827 - precision: 0.9737 - recall: 0.9728 - val_accuracy: 0.7940 - val_loss: 1.2648 - val_precision: 0.7947 - val_recall: 0.7916 - learning_rate: 1.0000e-04\n",
            "Epoch 12/30\n",
            "\u001b[1m285/285\u001b[0m \u001b[32m━━━━━━━━━━━━━━━━━━━━\u001b[0m\u001b[37m\u001b[0m \u001b[1m0s\u001b[0m 748ms/step - accuracy: 0.9651 - loss: 0.1134 - precision: 0.9672 - recall: 0.9630\n",
            "Epoch 12: val_loss did not improve from 0.06341\n",
            "\u001b[1m285/285\u001b[0m \u001b[32m━━━━━━━━━━━━━━━━━━━━\u001b[0m\u001b[37m\u001b[0m \u001b[1m261s\u001b[0m 778ms/step - accuracy: 0.9652 - loss: 0.1133 - precision: 0.9672 - recall: 0.9630 - val_accuracy: 0.9454 - val_loss: 0.1928 - val_precision: 0.9467 - val_recall: 0.9449 - learning_rate: 1.0000e-04\n",
            "Epoch 13/30\n",
            "\u001b[1m285/285\u001b[0m \u001b[32m━━━━━━━━━━━━━━━━━━━━\u001b[0m\u001b[37m\u001b[0m \u001b[1m0s\u001b[0m 750ms/step - accuracy: 0.9723 - loss: 0.0861 - precision: 0.9735 - recall: 0.9720\n",
            "Epoch 13: val_loss did not improve from 0.06341\n",
            "\u001b[1m285/285\u001b[0m \u001b[32m━━━━━━━━━━━━━━━━━━━━\u001b[0m\u001b[37m\u001b[0m \u001b[1m222s\u001b[0m 780ms/step - accuracy: 0.9723 - loss: 0.0861 - precision: 0.9735 - recall: 0.9720 - val_accuracy: 0.9658 - val_loss: 0.1039 - val_precision: 0.9681 - val_recall: 0.9654 - learning_rate: 1.0000e-04\n",
            "Epoch 14/30\n",
            "\u001b[1m285/285\u001b[0m \u001b[32m━━━━━━━━━━━━━━━━━━━━\u001b[0m\u001b[37m\u001b[0m \u001b[1m0s\u001b[0m 746ms/step - accuracy: 0.9805 - loss: 0.0654 - precision: 0.9811 - recall: 0.9797\n",
            "Epoch 14: val_loss did not improve from 0.06341\n",
            "\u001b[1m285/285\u001b[0m \u001b[32m━━━━━━━━━━━━━━━━━━━━\u001b[0m\u001b[37m\u001b[0m \u001b[1m261s\u001b[0m 775ms/step - accuracy: 0.9806 - loss: 0.0653 - precision: 0.9811 - recall: 0.9797 - val_accuracy: 0.9487 - val_loss: 0.1777 - val_precision: 0.9496 - val_recall: 0.9478 - learning_rate: 1.0000e-04\n",
            "Epoch 15/30\n",
            "\u001b[1m285/285\u001b[0m \u001b[32m━━━━━━━━━━━━━━━━━━━━\u001b[0m\u001b[37m\u001b[0m \u001b[1m0s\u001b[0m 756ms/step - accuracy: 0.9774 - loss: 0.0712 - precision: 0.9780 - recall: 0.9768\n",
            "Epoch 15: val_loss did not improve from 0.06341\n",
            "\u001b[1m285/285\u001b[0m \u001b[32m━━━━━━━━━━━━━━━━━━━━\u001b[0m\u001b[37m\u001b[0m \u001b[1m226s\u001b[0m 792ms/step - accuracy: 0.9774 - loss: 0.0712 - precision: 0.9780 - recall: 0.9768 - val_accuracy: 0.9649 - val_loss: 0.0968 - val_precision: 0.9658 - val_recall: 0.9644 - learning_rate: 1.0000e-04\n",
            "Epoch 16/30\n",
            "\u001b[1m285/285\u001b[0m \u001b[32m━━━━━━━━━━━━━━━━━━━━\u001b[0m\u001b[37m\u001b[0m \u001b[1m0s\u001b[0m 739ms/step - accuracy: 0.9800 - loss: 0.0573 - precision: 0.9817 - recall: 0.9797\n",
            "Epoch 16: val_loss did not improve from 0.06341\n",
            "\n",
            "Epoch 16: ReduceLROnPlateau reducing learning rate to 4.999999873689376e-05.\n",
            "\u001b[1m285/285\u001b[0m \u001b[32m━━━━━━━━━━━━━━━━━━━━\u001b[0m\u001b[37m\u001b[0m \u001b[1m255s\u001b[0m 769ms/step - accuracy: 0.9800 - loss: 0.0573 - precision: 0.9817 - recall: 0.9797 - val_accuracy: 0.9644 - val_loss: 0.0909 - val_precision: 0.9667 - val_recall: 0.9639 - learning_rate: 1.0000e-04\n",
            "Epoch 17/30\n",
            "\u001b[1m285/285\u001b[0m \u001b[32m━━━━━━━━━━━━━━━━━━━━\u001b[0m\u001b[37m\u001b[0m \u001b[1m0s\u001b[0m 744ms/step - accuracy: 0.9818 - loss: 0.0575 - precision: 0.9822 - recall: 0.9817\n",
            "Epoch 17: val_loss did not improve from 0.06341\n",
            "\u001b[1m285/285\u001b[0m \u001b[32m━━━━━━━━━━━━━━━━━━━━\u001b[0m\u001b[37m\u001b[0m \u001b[1m265s\u001b[0m 780ms/step - accuracy: 0.9819 - loss: 0.0575 - precision: 0.9823 - recall: 0.9817 - val_accuracy: 0.9753 - val_loss: 0.0664 - val_precision: 0.9758 - val_recall: 0.9753 - learning_rate: 5.0000e-05\n",
            "Epoch 18/30\n",
            "\u001b[1m285/285\u001b[0m \u001b[32m━━━━━━━━━━━━━━━━━━━━\u001b[0m\u001b[37m\u001b[0m \u001b[1m0s\u001b[0m 738ms/step - accuracy: 0.9839 - loss: 0.0481 - precision: 0.9842 - recall: 0.9827\n",
            "Epoch 18: val_loss improved from 0.06341 to 0.05354, saving model to best_leaf_model.keras\n",
            "\u001b[1m285/285\u001b[0m \u001b[32m━━━━━━━━━━━━━━━━━━━━\u001b[0m\u001b[37m\u001b[0m \u001b[1m229s\u001b[0m 805ms/step - accuracy: 0.9839 - loss: 0.0481 - precision: 0.9842 - recall: 0.9827 - val_accuracy: 0.9829 - val_loss: 0.0535 - val_precision: 0.9848 - val_recall: 0.9824 - learning_rate: 5.0000e-05\n",
            "Epoch 19/30\n",
            "\u001b[1m285/285\u001b[0m \u001b[32m━━━━━━━━━━━━━━━━━━━━\u001b[0m\u001b[37m\u001b[0m \u001b[1m0s\u001b[0m 740ms/step - accuracy: 0.9870 - loss: 0.0398 - precision: 0.9872 - recall: 0.9866\n",
            "Epoch 19: val_loss improved from 0.05354 to 0.05221, saving model to best_leaf_model.keras\n",
            "\u001b[1m285/285\u001b[0m \u001b[32m━━━━━━━━━━━━━━━━━━━━\u001b[0m\u001b[37m\u001b[0m \u001b[1m226s\u001b[0m 793ms/step - accuracy: 0.9870 - loss: 0.0398 - precision: 0.9872 - recall: 0.9866 - val_accuracy: 0.9801 - val_loss: 0.0522 - val_precision: 0.9815 - val_recall: 0.9796 - learning_rate: 5.0000e-05\n",
            "Epoch 20/30\n",
            "\u001b[1m285/285\u001b[0m \u001b[32m━━━━━━━━━━━━━━━━━━━━\u001b[0m\u001b[37m\u001b[0m \u001b[1m0s\u001b[0m 748ms/step - accuracy: 0.9858 - loss: 0.0425 - precision: 0.9861 - recall: 0.9856\n",
            "Epoch 20: val_loss did not improve from 0.05221\n",
            "\u001b[1m285/285\u001b[0m \u001b[32m━━━━━━━━━━━━━━━━━━━━\u001b[0m\u001b[37m\u001b[0m \u001b[1m221s\u001b[0m 775ms/step - accuracy: 0.9858 - loss: 0.0425 - precision: 0.9861 - recall: 0.9856 - val_accuracy: 0.9725 - val_loss: 0.0778 - val_precision: 0.9729 - val_recall: 0.9720 - learning_rate: 5.0000e-05\n",
            "Epoch 21/30\n",
            "\u001b[1m285/285\u001b[0m \u001b[32m━━━━━━━━━━━━━━━━━━━━\u001b[0m\u001b[37m\u001b[0m \u001b[1m0s\u001b[0m 747ms/step - accuracy: 0.9882 - loss: 0.0397 - precision: 0.9883 - recall: 0.9877\n",
            "Epoch 21: val_loss did not improve from 0.05221\n",
            "\u001b[1m285/285\u001b[0m \u001b[32m━━━━━━━━━━━━━━━━━━━━\u001b[0m\u001b[37m\u001b[0m \u001b[1m221s\u001b[0m 775ms/step - accuracy: 0.9882 - loss: 0.0397 - precision: 0.9883 - recall: 0.9877 - val_accuracy: 0.9687 - val_loss: 0.1004 - val_precision: 0.9691 - val_recall: 0.9682 - learning_rate: 5.0000e-05\n",
            "Epoch 22/30\n",
            "\u001b[1m285/285\u001b[0m \u001b[32m━━━━━━━━━━━━━━━━━━━━\u001b[0m\u001b[37m\u001b[0m \u001b[1m0s\u001b[0m 738ms/step - accuracy: 0.9861 - loss: 0.0358 - precision: 0.9867 - recall: 0.9857\n",
            "Epoch 22: val_loss did not improve from 0.05221\n",
            "\u001b[1m285/285\u001b[0m \u001b[32m━━━━━━━━━━━━━━━━━━━━\u001b[0m\u001b[37m\u001b[0m \u001b[1m259s\u001b[0m 764ms/step - accuracy: 0.9861 - loss: 0.0358 - precision: 0.9868 - recall: 0.9857 - val_accuracy: 0.9753 - val_loss: 0.0789 - val_precision: 0.9758 - val_recall: 0.9748 - learning_rate: 5.0000e-05\n",
            "Epoch 23/30\n",
            "\u001b[1m285/285\u001b[0m \u001b[32m━━━━━━━━━━━━━━━━━━━━\u001b[0m\u001b[37m\u001b[0m \u001b[1m0s\u001b[0m 737ms/step - accuracy: 0.9894 - loss: 0.0300 - precision: 0.9897 - recall: 0.9889\n",
            "Epoch 23: val_loss did not improve from 0.05221\n",
            "\u001b[1m285/285\u001b[0m \u001b[32m━━━━━━━━━━━━━━━━━━━━\u001b[0m\u001b[37m\u001b[0m \u001b[1m220s\u001b[0m 773ms/step - accuracy: 0.9894 - loss: 0.0300 - precision: 0.9897 - recall: 0.9889 - val_accuracy: 0.9777 - val_loss: 0.0613 - val_precision: 0.9791 - val_recall: 0.9772 - learning_rate: 5.0000e-05\n",
            "Epoch 24/30\n",
            "\u001b[1m285/285\u001b[0m \u001b[32m━━━━━━━━━━━━━━━━━━━━\u001b[0m\u001b[37m\u001b[0m \u001b[1m0s\u001b[0m 735ms/step - accuracy: 0.9920 - loss: 0.0243 - precision: 0.9923 - recall: 0.9918\n",
            "Epoch 24: val_loss improved from 0.05221 to 0.04088, saving model to best_leaf_model.keras\n",
            "\u001b[1m285/285\u001b[0m \u001b[32m━━━━━━━━━━━━━━━━━━━━\u001b[0m\u001b[37m\u001b[0m \u001b[1m265s\u001b[0m 785ms/step - accuracy: 0.9920 - loss: 0.0243 - precision: 0.9923 - recall: 0.9918 - val_accuracy: 0.9862 - val_loss: 0.0409 - val_precision: 0.9867 - val_recall: 0.9862 - learning_rate: 5.0000e-05\n",
            "Epoch 25/30\n",
            "\u001b[1m285/285\u001b[0m \u001b[32m━━━━━━━━━━━━━━━━━━━━\u001b[0m\u001b[37m\u001b[0m \u001b[1m0s\u001b[0m 734ms/step - accuracy: 0.9904 - loss: 0.0297 - precision: 0.9910 - recall: 0.9903\n",
            "Epoch 25: val_loss did not improve from 0.04088\n",
            "\u001b[1m285/285\u001b[0m \u001b[32m━━━━━━━━━━━━━━━━━━━━\u001b[0m\u001b[37m\u001b[0m \u001b[1m255s\u001b[0m 761ms/step - accuracy: 0.9904 - loss: 0.0297 - precision: 0.9909 - recall: 0.9902 - val_accuracy: 0.9848 - val_loss: 0.0507 - val_precision: 0.9857 - val_recall: 0.9843 - learning_rate: 5.0000e-05\n",
            "Epoch 26/30\n",
            "\u001b[1m285/285\u001b[0m \u001b[32m━━━━━━━━━━━━━━━━━━━━\u001b[0m\u001b[37m\u001b[0m \u001b[1m0s\u001b[0m 741ms/step - accuracy: 0.9882 - loss: 0.0481 - precision: 0.9883 - recall: 0.9875\n",
            "Epoch 26: val_loss did not improve from 0.04088\n",
            "\u001b[1m285/285\u001b[0m \u001b[32m━━━━━━━━━━━━━━━━━━━━\u001b[0m\u001b[37m\u001b[0m \u001b[1m220s\u001b[0m 770ms/step - accuracy: 0.9882 - loss: 0.0480 - precision: 0.9883 - recall: 0.9875 - val_accuracy: 0.9824 - val_loss: 0.0514 - val_precision: 0.9824 - val_recall: 0.9820 - learning_rate: 5.0000e-05\n",
            "Epoch 27/30\n",
            "\u001b[1m285/285\u001b[0m \u001b[32m━━━━━━━━━━━━━━━━━━━━\u001b[0m\u001b[37m\u001b[0m \u001b[1m0s\u001b[0m 729ms/step - accuracy: 0.9887 - loss: 0.0330 - precision: 0.9890 - recall: 0.9881\n",
            "Epoch 27: val_loss did not improve from 0.04088\n",
            "\u001b[1m285/285\u001b[0m \u001b[32m━━━━━━━━━━━━━━━━━━━━\u001b[0m\u001b[37m\u001b[0m \u001b[1m216s\u001b[0m 757ms/step - accuracy: 0.9887 - loss: 0.0329 - precision: 0.9890 - recall: 0.9881 - val_accuracy: 0.9810 - val_loss: 0.0510 - val_precision: 0.9819 - val_recall: 0.9805 - learning_rate: 5.0000e-05\n",
            "Epoch 28/30\n",
            "\u001b[1m285/285\u001b[0m \u001b[32m━━━━━━━━━━━━━━━━━━━━\u001b[0m\u001b[37m\u001b[0m \u001b[1m0s\u001b[0m 735ms/step - accuracy: 0.9919 - loss: 0.0270 - precision: 0.9923 - recall: 0.9919\n",
            "Epoch 28: val_loss did not improve from 0.04088\n",
            "\u001b[1m285/285\u001b[0m \u001b[32m━━━━━━━━━━━━━━━━━━━━\u001b[0m\u001b[37m\u001b[0m \u001b[1m264s\u001b[0m 764ms/step - accuracy: 0.9919 - loss: 0.0271 - precision: 0.9923 - recall: 0.9919 - val_accuracy: 0.9820 - val_loss: 0.0580 - val_precision: 0.9829 - val_recall: 0.9815 - learning_rate: 5.0000e-05\n",
            "Epoch 29/30\n",
            "\u001b[1m285/285\u001b[0m \u001b[32m━━━━━━━━━━━━━━━━━━━━\u001b[0m\u001b[37m\u001b[0m \u001b[1m0s\u001b[0m 735ms/step - accuracy: 0.9883 - loss: 0.0393 - precision: 0.9886 - recall: 0.9879\n",
            "Epoch 29: val_loss did not improve from 0.04088\n",
            "\u001b[1m285/285\u001b[0m \u001b[32m━━━━━━━━━━━━━━━━━━━━\u001b[0m\u001b[37m\u001b[0m \u001b[1m262s\u001b[0m 764ms/step - accuracy: 0.9883 - loss: 0.0393 - precision: 0.9886 - recall: 0.9879 - val_accuracy: 0.9881 - val_loss: 0.0444 - val_precision: 0.9895 - val_recall: 0.9877 - learning_rate: 5.0000e-05\n",
            "Epoch 30/30\n",
            "\u001b[1m285/285\u001b[0m \u001b[32m━━━━━━━━━━━━━━━━━━━━\u001b[0m\u001b[37m\u001b[0m \u001b[1m0s\u001b[0m 729ms/step - accuracy: 0.9848 - loss: 0.0400 - precision: 0.9863 - recall: 0.9844\n",
            "Epoch 30: val_loss improved from 0.04088 to 0.03608, saving model to best_leaf_model.keras\n",
            "\u001b[1m285/285\u001b[0m \u001b[32m━━━━━━━━━━━━━━━━━━━━\u001b[0m\u001b[37m\u001b[0m \u001b[1m227s\u001b[0m 797ms/step - accuracy: 0.9848 - loss: 0.0400 - precision: 0.9863 - recall: 0.9844 - val_accuracy: 0.9881 - val_loss: 0.0361 - val_precision: 0.9891 - val_recall: 0.9881 - learning_rate: 5.0000e-05\n",
            "Restoring model weights from the end of the best epoch: 30.\n",
            "\n",
            "--- Antrenament finalizat ---\n",
            "\n",
            "--- Plotare grafice performanță ---\n",
            "Metrici disponibile în istoric: dict_keys(['accuracy', 'loss', 'precision', 'recall', 'val_accuracy', 'val_loss', 'val_precision', 'val_recall', 'learning_rate'])\n"
          ]
        }
      ]
    },
    {
      "cell_type": "markdown",
      "source": [
        "# Grafice"
      ],
      "metadata": {
        "id": "GbKplHjyxEgl"
      }
    },
    {
      "cell_type": "code",
      "source": [
        "# Loss\n",
        "plt.figure(figsize=(10, 5))\n",
        "plt.plot(hist.history.get('loss', []), color='teal', label='Training Loss')\n",
        "plt.plot(hist.history.get('val_loss', []), color='orange', label='Validation Loss')\n",
        "plt.title('Loss per Epoch')\n",
        "plt.xlabel('Epoch')\n",
        "plt.ylabel('Loss')\n",
        "plt.legend(loc=\"upper right\")\n",
        "plt.grid(True)\n",
        "plt.show()"
      ],
      "metadata": {
        "id": "HQss5XN1Avl4",
        "colab": {
          "base_uri": "https://localhost:8080/",
          "height": 487
        },
        "outputId": "9769f963-3df3-44d2-a07c-43298318d3d7"
      },
      "execution_count": null,
      "outputs": [
        {
          "output_type": "display_data",
          "data": {
            "text/plain": [
              "<Figure size 1000x500 with 1 Axes>"
            ],
            "image/png": "[encoded data removed]"
          },
          "metadata": {}
        }
      ]
    },
    {
      "cell_type": "code",
      "source": [
        "# Accuracy\n",
        "plt.figure(figsize=(10, 5))\n",
        "plt.plot(hist.history.get('accuracy', []), color='teal', label='Training Accuracy')\n",
        "plt.plot(hist.history.get('val_accuracy', []), color='orange', label='Validation Accuracy')\n",
        "plt.title('Accuracy per Epoch')\n",
        "plt.xlabel('Epoch')\n",
        "plt.ylabel('Accuracy')\n",
        "plt.legend(loc=\"lower right\")\n",
        "plt.grid(True)\n",
        "plt.show()"
      ],
      "metadata": {
        "id": "yKZlnwb4A3WF",
        "colab": {
          "base_uri": "https://localhost:8080/",
          "height": 487
        },
        "outputId": "8dcb38f0-9f5b-497d-d061-ab416244212c"
      },
      "execution_count": null,
      "outputs": [
        {
          "output_type": "display_data",
          "data": {
            "text/plain": [
              "<Figure size 1000x500 with 1 Axes>"
            ],
            "image/png": "[encoded data removed]"
          },
          "metadata": {}
        }
      ]
    },
    {
      "cell_type": "markdown",
      "source": [
        "# Evaluare pe Setul de Test"
      ],
      "metadata": {
        "id": "xaJkEFu5xOnZ"
      }
    },
    {
      "cell_type": "code",
      "source": [
        "print(\"\\n--- Evaluare pe setul de test ---\")\n",
        "# Încarcă cel mai bun model salvat\n",
        "print(f\"Se încarcă cel mai bun model salvat din: {checkpoint_filepath}\")\n",
        "if os.path.exists(checkpoint_filepath):\n",
        "    best_model = load_model(checkpoint_filepath) # Încarcă cel mai bun model\n",
        "\n",
        "    print(\"Evaluare folosind model.evaluate...\")\n",
        "    test_loss, test_accuracy, test_recall, test_precision = best_model.evaluate(test_generator, verbose=1)\n",
        "    print(f\"\\nRezultate model.evaluate:\")\n",
        "    print(f\"Test Loss:      {test_loss:.4f}\")\n",
        "    print(f\"Test Accuracy:  {test_accuracy:.4f}\")\n",
        "    print(f\"Test Recall:    {test_recall:.4f}\")\n",
        "    print(f\"Test Precision: {test_precision:.4f}\")\n",
        "\n",
        "    print(\"\\nGenerare Matrice de Confuzie și Raport de Clasificare...\")\n",
        "    # Obține predicții pentru tot setul de test\n",
        "    # Resetăm generatorul pentru a ne asigura că începe de la început\n",
        "    test_generator.reset()\n",
        "    predictions = best_model.predict(test_generator, steps=test_generator.samples // BATCH_SIZE + (1 if test_generator.samples % BATCH_SIZE > 0 else 0) , verbose=1)\n",
        "    # Obține clasele prezise (indicii cu probabilitatea maximă)\n",
        "    y_pred_indices = np.argmax(predictions, axis=1)\n",
        "    # Obține clasele adevărate\n",
        "    y_true_indices = test_generator.classes # Acesta conține indicii claselor adevărate\n",
        "\n",
        "    # Asigură-te că avem același număr de etichete\n",
        "    if len(y_pred_indices) != len(y_true_indices):\n",
        "         print(f\"Atenție: Număr diferit de predicții ({len(y_pred_indices)}) și etichete adevărate ({len(y_true_indices)}). Verifică pașii de predicție.\")\n",
        "         # Încercăm să ajustăm dacă diferența e mică (posibil ultimul batch parțial)\n",
        "         min_len = min(len(y_pred_indices), len(y_true_indices))\n",
        "         y_pred_indices = y_pred_indices[:min_len]\n",
        "         y_true_indices = y_true_indices[:min_len]\n",
        "\n",
        "\n",
        "    # Calculează matricea de confuzie\n",
        "    cm = confusion_matrix(y_true_indices, y_pred_indices)\n",
        "\n",
        "    # Vizualizează matricea de confuzie\n",
        "    plt.figure(figsize=(8, 6))\n",
        "    sns.heatmap(cm, annot=True, fmt=\"d\", cmap=\"Blues\",\n",
        "                xticklabels=class_names,\n",
        "                yticklabels=class_names)\n",
        "    plt.xlabel(\"Clase prezise\")\n",
        "    plt.ylabel(\"Clase adevărate\")\n",
        "    plt.title(\"Matricea de Confuzie (Set Test)\")\n",
        "    plt.show()\n",
        "\n",
        "    # Afișează raportul de clasificare\n",
        "    print(\"\\nRaport de clasificare (Set Test):\")\n",
        "    print(classification_report(y_true_indices, y_pred_indices, target_names=class_names))\n",
        "\n",
        "else:\n",
        "    print(f\"EROARE: Fișierul {checkpoint_filepath} nu a fost găsit. Evaluarea pe cel mai bun model nu se poate face.\")\n"
      ],
      "metadata": {
        "id": "7dsFf7chA5qT",
        "colab": {
          "base_uri": "https://localhost:8080/",
          "height": 1000
        },
        "outputId": "a408180b-f18d-4638-9905-60fb00488787"
      },
      "execution_count": null,
      "outputs": [
        {
          "output_type": "stream",
          "name": "stdout",
          "text": [
            "\n",
            "--- Evaluare pe setul de test ---\n",
            "Se încarcă cel mai bun model salvat din: best_leaf_model.keras\n",
            "Evaluare folosind model.evaluate...\n",
            "\u001b[1m42/42\u001b[0m \u001b[32m━━━━━━━━━━━━━━━━━━━━\u001b[0m\u001b[37m\u001b[0m \u001b[1m16s\u001b[0m 310ms/step - accuracy: 0.9765 - loss: 0.1091 - precision: 0.9769 - recall: 0.9757\n",
            "\n",
            "Rezultate model.evaluate:\n",
            "Test Loss:      0.1532\n",
            "Test Accuracy:  0.9637\n",
            "Test Recall:    0.9629\n",
            "Test Precision: 0.9644\n",
            "\n",
            "Generare Matrice de Confuzie și Raport de Clasificare...\n",
            "\u001b[1m42/42\u001b[0m \u001b[32m━━━━━━━━━━━━━━━━━━━━\u001b[0m\u001b[37m\u001b[0m \u001b[1m13s\u001b[0m 247ms/step\n"
          ]
        },
        {
          "output_type": "display_data",
          "data": {
            "text/plain": [
              "<Figure size 800x600 with 2 Axes>"
            ],
            "image/png": "[encoded data removed]"
          },
          "metadata": {}
        },
        {
          "output_type": "stream",
          "name": "stdout",
          "text": [
            "\n",
            "Raport de clasificare (Set Test):\n",
            "              precision    recall  f1-score   support\n",
            "\n",
            "     Healthy       0.96      0.96      0.96       448\n",
            "     Powdery       0.95      0.96      0.95       432\n",
            "        Rust       0.98      0.97      0.98       441\n",
            "\n",
            "    accuracy                           0.96      1321\n",
            "   macro avg       0.96      0.96      0.96      1321\n",
            "weighted avg       0.96      0.96      0.96      1321\n",
            "\n"
          ]
        }
      ]
    },
    {
      "cell_type": "markdown",
      "source": [
        "# Test pe o Imagine Individuală"
      ],
      "metadata": {
        "id": "3E3jJ8xnyRM5"
      }
    },
    {
      "cell_type": "code",
      "source": [
        "\n",
        "print(\"\\n--- Test pe o imagine individuală ---\")\n",
        "test_image_path = 'download (2).jpg' # path ul\n",
        "\n",
        "if os.path.exists(test_image_path):\n",
        "    try:\n",
        "        img = cv2.imread(test_image_path)\n",
        "        if img is None:\n",
        "            print(f\"EROARE: Nu s-a putut citi imaginea: {test_image_path}\")\n",
        "        else:\n",
        "            # Afișează imaginea originală (BGR)\n",
        "             plt.imshow(cv2.cvtColor(img, cv2.COLOR_BGR2RGB)) # Conversie pt matplotlib\n",
        "             plt.title(\"Imagine Originală\")\n",
        "             plt.show()\n",
        "\n",
        "             # Preprocesare IDENTICĂ cu cea de la antrenament\n",
        "             # 1. Redimensionare\n",
        "             img_resized = cv2.resize(img, IMG_SIZE) # Folosim cv2.resize pt consistență cu cv2.imread\n",
        "\n",
        "             # 2. Conversie BGR -> RGB (Keras/TF se așteaptă la RGB de obicei)\n",
        "             img_rgb = cv2.cvtColor(img_resized, cv2.COLOR_BGR2RGB)\n",
        "\n",
        "             # 3. Rescalare (Împărțire la 255.0)\n",
        "             img_rescaled = img_rgb / 255.0\n",
        "\n",
        "             # 4. Adăugare dimensiune Batch (1, height, width, channels)\n",
        "             img_final_for_pred = np.expand_dims(img_rescaled, axis=0)\n",
        "\n",
        "            # Afișează imaginea procesată\n",
        "             plt.imshow(img_rescaled) # Valorile vor fi [0,1]\n",
        "             plt.title(\"Imagine Procesată (pt. Predicție)\")\n",
        "             plt.show()\n",
        "\n",
        "            # Folosim cel mai bun model\n",
        "             if 'best_model' in locals() or 'best_model' in globals():\n",
        "                 print(\"Se face predicția folosind best_model...\")\n",
        "                 yhat = best_model.predict(img_final_for_pred)\n",
        "\n",
        "                 print(\"Probabilități predicție:\", yhat)\n",
        "\n",
        "                 # Obține indexul clasei cu cea mai mare probabilitate\n",
        "                 predicted_class_index = np.argmax(yhat[0])\n",
        "                 # Obține numele clasei\n",
        "                 predicted_class_name = class_names[predicted_class_index]\n",
        "                 # Obține încrederea (probabilitatea)\n",
        "                 confidence = yhat[0][predicted_class_index]\n",
        "\n",
        "                 print(f\"\\nClasa prezisă: {predicted_class_name} (Index: {predicted_class_index})\")\n",
        "                 print(f\"Încredere: {confidence:.4f}\")\n",
        "             else:\n",
        "                 print(\"Obiectul 'best_model' nu a fost încărcat. Predicția nu se poate face.\")\n",
        "\n",
        "    except Exception as e_pred:\n",
        "        print(f\"A apărut o eroare la procesarea imaginii de test: {e_pred}\")\n",
        "else:\n",
        "    print(f\"EROARE: Imaginea de test '{test_image_path}' nu a fost găsită.\")\n"
      ],
      "metadata": {
        "id": "XG8Risl7-e4X"
      },
      "execution_count": null,
      "outputs": []
    },
    {
      "cell_type": "code",
      "source": [
        "# --- Salvare Model Final (Opțional, diferit de cel mai bun salvat de checkpoint) ---\n",
        "# print(\"\\n--- Salvare model final (ultima epocă) ---\")\n",
        "# models_dir = 'models_final'\n",
        "# if not os.path.exists(models_dir):\n",
        "#     os.makedirs(models_dir)\n",
        "\n",
        "# Salvează modelul din ultima stare (nu neapărat cel mai bun)\n",
        "# include_optimizer=True salvează și starea optimizatorului, util pt reluarea antrenamentului\n",
        "# model.save(os.path.join(models_dir, 'leaf_classifier_final_epoch.keras'), include_optimizer=True)\n",
        "# print(f\"Modelul final salvat în {models_dir}\")\n",
        "\n",
        "\n",
        "from google.colab import files\n",
        "if os.path.exists(checkpoint_filepath):\n",
        "   print(f\"\\nDescarcă cel mai bun model salvat: {checkpoint_filepath}\")\n",
        "   files.download(checkpoint_filepath)"
      ],
      "metadata": {
        "id": "GXZ58QAUBOGb"
      },
      "execution_count": null,
      "outputs": []
    },
    {
      "cell_type": "code",
      "source": [
        "import tensorflow as tf\n",
        "import numpy as np\n",
        "import cv2 # OpenCV pentru citirea imaginii\n",
        "import os\n",
        "\n",
        "\n",
        "# 1. Specifică calea către modelul tău antrenat (.keras)\n",
        "PATH_MODEL_ANTRENAT = '/content/best_leaf_model (1).keras'\n",
        "\n",
        "# 2. Specifică calea către noua imagine pe care vrei să o clasifici\n",
        "PATH_IMAGINE_NOUA = '/content/download (1).jpg'\n",
        "\n",
        "# 3. Dimensiunea imaginii folosită la antrenament\n",
        "IMAGE_WIDTH = 299\n",
        "IMAGE_HEIGHT = 299\n",
        "\n",
        "# 4. Numele claselor (în ordinea indexului dat de train_generator.class_indices)\n",
        "#    Verifică outputul celulei cu train_generator.class_indices dacă ordinea e alta!\n",
        "CLASS_NAMES = ['blight', 'healthy', 'powdery', 'rust']\n",
        "\n",
        "\n",
        "# Verifică existența fișierelor\n",
        "if not os.path.exists(PATH_MODEL_ANTRENAT):\n",
        "    print(f\"EROARE: Modelul nu a fost găsit la calea: {PATH_MODEL_ANTRENAT}\")\n",
        "elif not os.path.exists(PATH_IMAGINE_NOUA):\n",
        "    print(f\"EROARE: Imaginea nu a fost găsită la calea: {PATH_IMAGINE_NOUA}\")\n",
        "else:\n",
        "    print(\"--- Încărcare model ---\")\n",
        "    try:\n",
        "        #modelul salvat\n",
        "        model = tf.keras.models.load_model(PATH_MODEL_ANTRENAT)\n",
        "        print(\"Model încărcat cu succes.\")\n",
        "        # model.summary() #afișează structura modelului\n",
        "\n",
        "        print(\"\\n--- Preprocesare Imagine ---\")\n",
        "        # Încarcă imaginea nouă\n",
        "        img = cv2.imread(PATH_IMAGINE_NOUA)\n",
        "        if img is None:\n",
        "            print(f\"EROARE: Nu s-a putut citi imaginea de la: {PATH_IMAGINE_NOUA}\")\n",
        "        else:\n",
        "            # Convertește din BGR în RGB\n",
        "            img_rgb = cv2.cvtColor(img, cv2.COLOR_BGR2RGB)\n",
        "\n",
        "            # Redimensionează imaginea la dimensiunea de model\n",
        "            img_resized = cv2.resize(img_rgb, (IMAGE_WIDTH, IMAGE_HEIGHT))\n",
        "\n",
        "            # Normalizează pixelii\n",
        "            img_normalized = img_resized / 255.0\n",
        "\n",
        "            #\n",
        "            # Forma devine (1, IMAGE_WIDTH, IMAGE_HEIGHT, 3)\n",
        "            img_batch = np.expand_dims(img_normalized, axis=0)\n",
        "            print(f\"Imagine preprocesată, forma: {img_batch.shape}\")\n",
        "\n",
        "            print(\"\\n--- Realizare Predicție ---\")\n",
        "            # Realizează predicția\n",
        "            predictions = model.predict(img_batch)\n",
        "            print(f\"Probabilități predicție: {predictions[0]}\") # Afișează vectorul de probabilități\n",
        "\n",
        "            # Găsește indexul clasei cu cea mai mare probabilitate\n",
        "            predicted_class_index = np.argmax(predictions[0])\n",
        "\n",
        "            # Găsește numele clasei și scorul de încredere\n",
        "            predicted_class_name = CLASS_NAMES[predicted_class_index]\n",
        "            confidence_score = np.max(predictions[0])\n",
        "\n",
        "            print(f\"\\nClasa prezisă: {predicted_class_name} (Index: {predicted_class_index})\")\n",
        "            print(f\"Încredere: {confidence_score:.4f}\")\n",
        "\n",
        "            # Afișează imaginea\n",
        "            import matplotlib.pyplot as plt\n",
        "            plt.imshow(img_resized) # Afișează imaginea redimensionată (nu normalizată)\n",
        "            plt.title(f\"Predicție: {predicted_class_name} ({confidence_score:.2f})\")\n",
        "            plt.axis('off')\n",
        "            plt.show()\n",
        "\n",
        "    except Exception as e:\n",
        "        print(f\"A apărut o eroare: {e}\")"
      ],
      "metadata": {
        "id": "xIiENkiBEFAJ",
        "colab": {
          "base_uri": "https://localhost:8080/"
        },
        "outputId": "ee013e3c-0a7d-4fb1-db2e-863f1a003778"
      },
      "execution_count": null,
      "outputs": [
        {
          "metadata": {
            "tags": null
          },
          "name": "stdout",
          "output_type": "stream",
          "text": [
            "EROARE: Modelul nu a fost găsit la calea: /content/best_leaf_model (1).keras\n"
          ]
        }
      ]
    }
  ]
}